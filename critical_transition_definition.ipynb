{
 "cells": [
  {
   "cell_type": "code",
   "execution_count": 1,
   "metadata": {},
   "outputs": [],
   "source": [
    "# Import libraries\n",
    "import os\n",
    "import numpy as np\n",
    "import pandas as pd\n",
    "from tqdm import tqdm\n",
    "import plotly.io as pio\n",
    "import functions as fun\n",
    "import importlib as imp\n",
    "\n",
    "# Set additional settings for warnings and templates\n",
    "import warnings\n",
    "warnings.filterwarnings(\"ignore\")\n",
    "pio.templates.default = \"plotly_white\"\n",
    "pd.set_option('display.max_columns', None)\n",
    "pd.options.display.float_format = \"{: .3f}\".format"
   ]
  },
  {
   "cell_type": "code",
   "execution_count": 38,
   "metadata": {},
   "outputs": [
    {
     "data": {
      "text/plain": [
       "<module 'functions' from 'c:\\\\Users\\\\User\\\\OneDrive\\\\PD\\\\ММСС\\\\early_warning_model\\\\functions.py'>"
      ]
     },
     "execution_count": 38,
     "metadata": {},
     "output_type": "execute_result"
    }
   ],
   "source": [
    "# Reload functions if they were changed\n",
    "imp.reload(fun)"
   ]
  },
  {
   "cell_type": "code",
   "execution_count": 30,
   "metadata": {},
   "outputs": [],
   "source": [
    "# Params for all simulations\n",
    "number = 10"
   ]
  },
  {
   "cell_type": "markdown",
   "metadata": {},
   "source": [
    "### Simulation of the random time series"
   ]
  },
  {
   "cell_type": "code",
   "execution_count": 31,
   "metadata": {},
   "outputs": [],
   "source": [
    "# Params for random simulations\n",
    "length = 2500\n",
    "mean = 0\n",
    "sigma = 100"
   ]
  },
  {
   "cell_type": "code",
   "execution_count": 32,
   "metadata": {},
   "outputs": [],
   "source": [
    "# Create simulations\n",
    "for type in ['normal', 'rw']:\n",
    "    data = fun.generate_random_series(length, number, mean, sigma, type)\n",
    "    data.to_parquet(f'Definition_simulations/original/{type}.parquet')"
   ]
  },
  {
   "cell_type": "markdown",
   "metadata": {},
   "source": [
    "### Simulation of the time series by sand piles"
   ]
  },
  {
   "cell_type": "code",
   "execution_count": 23,
   "metadata": {},
   "outputs": [],
   "source": [
    "# Params for sand pile simulations\n",
    "number_of_nodes = 2500\n",
    "length = number_of_nodes * 5\n",
    "ER_prob = 4 / number_of_nodes\n",
    "CL_average = 10\n",
    "dist = 'uni'"
   ]
  },
  {
   "cell_type": "code",
   "execution_count": 33,
   "metadata": {},
   "outputs": [
    {
     "name": "stderr",
     "output_type": "stream",
     "text": [
      "100%|██████████| 10/10 [01:21<00:00,  8.19s/it]\n",
      "100%|██████████| 10/10 [01:17<00:00,  7.73s/it]\n",
      "100%|██████████| 10/10 [01:20<00:00,  8.09s/it]\n",
      "100%|██████████| 10/10 [01:16<00:00,  7.66s/it]\n",
      "100%|██████████| 10/10 [01:18<00:00,  7.87s/it]\n",
      "100%|██████████| 10/10 [01:17<00:00,  7.72s/it]\n",
      "100%|██████████| 10/10 [01:12<00:00,  7.26s/it]\n",
      "100%|██████████| 10/10 [01:05<00:00,  6.50s/it]\n"
     ]
    }
   ],
   "source": [
    "# Simulate sand pile for 4 combinations of types and models\n",
    "for type in ['ER', 'CL']:\n",
    "    for model in ['BTW', 'MA']:\n",
    "        for facilitated in [True, False]:\n",
    "            data = pd.DataFrame()\n",
    "            for i in tqdm(range(number)):\n",
    "                G = fun.graph_generation(graph_type = type, number_of_nodes = number_of_nodes, ER_prob = ER_prob, CL_average = CL_average)\n",
    "                grains = fun.grain_generator(number_of_nodes, length, dist)\n",
    "                data[str(i)] = fun.spread(model, G, length, grains, facilitated = facilitated)\n",
    "            \n",
    "            # Add flag to the final file name\n",
    "            if facilitated == True:\n",
    "                fa = 'fa'\n",
    "            else:\n",
    "                fa = 'base'\n",
    "\n",
    "            # Save time series\n",
    "            data.to_parquet(f'Definition_simulations/original/{type}_{model}_{fa}.parquet')"
   ]
  },
  {
   "cell_type": "markdown",
   "metadata": {},
   "source": [
    "### Choice of the best border to define critical transition"
   ]
  },
  {
   "cell_type": "code",
   "execution_count": 42,
   "metadata": {},
   "outputs": [
    {
     "name": "stderr",
     "output_type": "stream",
     "text": [
      "100%|██████████| 10/10 [00:16<00:00,  1.68s/it]\n"
     ]
    },
    {
     "data": {
      "text/html": [
       "<div>\n",
       "<style scoped>\n",
       "    .dataframe tbody tr th:only-of-type {\n",
       "        vertical-align: middle;\n",
       "    }\n",
       "\n",
       "    .dataframe tbody tr th {\n",
       "        vertical-align: top;\n",
       "    }\n",
       "\n",
       "    .dataframe thead th {\n",
       "        text-align: right;\n",
       "    }\n",
       "</style>\n",
       "<table border=\"1\" class=\"dataframe\">\n",
       "  <thead>\n",
       "    <tr style=\"text-align: right;\">\n",
       "      <th></th>\n",
       "      <th>Sim</th>\n",
       "      <th>Crit</th>\n",
       "      <th>Window</th>\n",
       "      <th>Mean</th>\n",
       "    </tr>\n",
       "  </thead>\n",
       "  <tbody>\n",
       "    <tr>\n",
       "      <th>0</th>\n",
       "      <td>CL_BTW_base</td>\n",
       "      <td>1.100</td>\n",
       "      <td>100</td>\n",
       "      <td>159.690</td>\n",
       "    </tr>\n",
       "    <tr>\n",
       "      <th>1</th>\n",
       "      <td>CL_BTW_base</td>\n",
       "      <td>1.150</td>\n",
       "      <td>100</td>\n",
       "      <td>87.290</td>\n",
       "    </tr>\n",
       "    <tr>\n",
       "      <th>2</th>\n",
       "      <td>CL_BTW_base</td>\n",
       "      <td>1.200</td>\n",
       "      <td>100</td>\n",
       "      <td>46.230</td>\n",
       "    </tr>\n",
       "    <tr>\n",
       "      <th>3</th>\n",
       "      <td>CL_BTW_base</td>\n",
       "      <td>1.250</td>\n",
       "      <td>100</td>\n",
       "      <td>25.750</td>\n",
       "    </tr>\n",
       "    <tr>\n",
       "      <th>4</th>\n",
       "      <td>CL_BTW_base</td>\n",
       "      <td>1.300</td>\n",
       "      <td>100</td>\n",
       "      <td>14.840</td>\n",
       "    </tr>\n",
       "    <tr>\n",
       "      <th>...</th>\n",
       "      <td>...</td>\n",
       "      <td>...</td>\n",
       "      <td>...</td>\n",
       "      <td>...</td>\n",
       "    </tr>\n",
       "    <tr>\n",
       "      <th>85</th>\n",
       "      <td>rw</td>\n",
       "      <td>1.300</td>\n",
       "      <td>100</td>\n",
       "      <td>0.100</td>\n",
       "    </tr>\n",
       "    <tr>\n",
       "      <th>86</th>\n",
       "      <td>rw</td>\n",
       "      <td>1.350</td>\n",
       "      <td>100</td>\n",
       "      <td>0.000</td>\n",
       "    </tr>\n",
       "    <tr>\n",
       "      <th>87</th>\n",
       "      <td>rw</td>\n",
       "      <td>1.400</td>\n",
       "      <td>100</td>\n",
       "      <td>0.000</td>\n",
       "    </tr>\n",
       "    <tr>\n",
       "      <th>88</th>\n",
       "      <td>rw</td>\n",
       "      <td>1.450</td>\n",
       "      <td>100</td>\n",
       "      <td>0.000</td>\n",
       "    </tr>\n",
       "    <tr>\n",
       "      <th>89</th>\n",
       "      <td>rw</td>\n",
       "      <td>1.500</td>\n",
       "      <td>100</td>\n",
       "      <td>0.000</td>\n",
       "    </tr>\n",
       "  </tbody>\n",
       "</table>\n",
       "<p>90 rows × 4 columns</p>\n",
       "</div>"
      ],
      "text/plain": [
       "            Sim   Crit Window     Mean\n",
       "0   CL_BTW_base  1.100    100  159.690\n",
       "1   CL_BTW_base  1.150    100   87.290\n",
       "2   CL_BTW_base  1.200    100   46.230\n",
       "3   CL_BTW_base  1.250    100   25.750\n",
       "4   CL_BTW_base  1.300    100   14.840\n",
       "..          ...    ...    ...      ...\n",
       "85           rw  1.300    100    0.100\n",
       "86           rw  1.350    100    0.000\n",
       "87           rw  1.400    100    0.000\n",
       "88           rw  1.450    100    0.000\n",
       "89           rw  1.500    100    0.000\n",
       "\n",
       "[90 rows x 4 columns]"
      ]
     },
     "execution_count": 42,
     "metadata": {},
     "output_type": "execute_result"
    }
   ],
   "source": [
    "crit = np.linspace(1.1, 1.5, 9)\n",
    "# window = np.linspace(50, 300, 6)\n",
    "window = [100]\n",
    "stats = pd.DataFrame(columns = ['Sim', 'Crit', 'Window', 'Mean'])\n",
    "\n",
    "# Load simulated time series\n",
    "for i in tqdm([i for i in os.listdir('Definition_simulations/original') if i.endswith('.parquet')]):\n",
    "    for c in crit:\n",
    "        for w in window:\n",
    "            # Calculate the critical transition\n",
    "            data = fun.critical_transition(pd.read_parquet(f'Definition_simulations/original/{i}'), c, w)\n",
    "            data_rise = data[data.columns[data.columns.str.contains(', Rise')]]\n",
    "            data_rise.to_parquet('Definition_simulations/stats/' + i.split('.')[0] + '_' + str(round(c, 2)).replace('.', '_') + '_' + str(w) + '.parquet')\n",
    "            stats = pd.concat([stats, \n",
    "                               pd.DataFrame({'Sim': [i.split('.')[0]], 'Crit': [c], 'Window': [w], \n",
    "                               'Mean': [data_rise.values.sum() / data_rise.shape[1]]})], ignore_index = True)\n",
    "stats.to_parquet('Definition_simulations/stats/stats.parquet')\n",
    "stats"
   ]
  }
 ],
 "metadata": {
  "kernelspec": {
   "display_name": "Python 3",
   "language": "python",
   "name": "python3"
  },
  "language_info": {
   "codemirror_mode": {
    "name": "ipython",
    "version": 3
   },
   "file_extension": ".py",
   "mimetype": "text/x-python",
   "name": "python",
   "nbconvert_exporter": "python",
   "pygments_lexer": "ipython3",
   "version": "3.12.5"
  }
 },
 "nbformat": 4,
 "nbformat_minor": 2
}

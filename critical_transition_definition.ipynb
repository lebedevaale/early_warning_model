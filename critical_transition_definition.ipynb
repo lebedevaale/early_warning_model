{
 "cells": [
  {
   "cell_type": "code",
   "execution_count": 2,
   "metadata": {},
   "outputs": [],
   "source": [
    "# Import libraries\n",
    "import pandas as pd\n",
    "from tqdm import tqdm\n",
    "import plotly.io as pio\n",
    "import functions as fun\n",
    "import importlib as imp\n",
    "\n",
    "# Set additional settings for warnings and templates\n",
    "import warnings\n",
    "warnings.filterwarnings(\"ignore\")\n",
    "pio.templates.default = \"plotly_white\"\n",
    "pd.set_option('display.max_columns', None)\n",
    "pd.options.display.float_format = \"{: .3f}\".format"
   ]
  },
  {
   "cell_type": "code",
   "execution_count": 37,
   "metadata": {},
   "outputs": [
    {
     "data": {
      "text/plain": [
       "<module 'functions' from 'c:\\\\Users\\\\user\\\\OneDrive\\\\PD\\\\ММСС\\\\early_warning_model\\\\functions.py'>"
      ]
     },
     "execution_count": 37,
     "metadata": {},
     "output_type": "execute_result"
    }
   ],
   "source": [
    "# Reload functions if they were changed\n",
    "imp.reload(fun)"
   ]
  },
  {
   "cell_type": "code",
   "execution_count": 4,
   "metadata": {},
   "outputs": [],
   "source": [
    "# Params for all simulations\n",
    "number = 1000"
   ]
  },
  {
   "cell_type": "markdown",
   "metadata": {},
   "source": [
    "### Simulation of the random time series"
   ]
  },
  {
   "cell_type": "code",
   "execution_count": 45,
   "metadata": {},
   "outputs": [],
   "source": [
    "# Params for random simulations\n",
    "length = 5000\n",
    "mean = 0\n",
    "sigma = 100"
   ]
  },
  {
   "cell_type": "code",
   "execution_count": 53,
   "metadata": {},
   "outputs": [],
   "source": [
    "# Create simulations\n",
    "for type in ['normal', 'rw']:\n",
    "    data = fun.generate_random_series(length, number, mean, sigma, type)\n",
    "    data.to_parquet(f'Definition_simulations/{type}.parquet')"
   ]
  },
  {
   "cell_type": "markdown",
   "metadata": {},
   "source": [
    "### Simulation of the time series by sand piles"
   ]
  },
  {
   "cell_type": "code",
   "execution_count": 35,
   "metadata": {},
   "outputs": [],
   "source": [
    "# Params for sand pile simulations\n",
    "number_of_nodes = 500\n",
    "length = number_of_nodes * 5\n",
    "ER_prob = 4 / number_of_nodes\n",
    "CL_average = 12\n",
    "dist = 'uni'"
   ]
  },
  {
   "cell_type": "code",
   "execution_count": 38,
   "metadata": {},
   "outputs": [
    {
     "name": "stderr",
     "output_type": "stream",
     "text": [
      "100%|██████████| 1000/1000 [1:11:06<00:00,  4.27s/it]\n",
      "100%|██████████| 1000/1000 [50:28<00:00,  3.03s/it]\n",
      "100%|██████████| 1000/1000 [56:21<00:00,  3.38s/it]\n",
      "100%|██████████| 1000/1000 [50:43<00:00,  3.04s/it]\n"
     ]
    }
   ],
   "source": [
    "# Simulate sand pile for 4 combinations of types and models\n",
    "for type in ['ER', 'CL']:\n",
    "    for model in ['BTW', 'MA']:\n",
    "        data = pd.DataFrame()\n",
    "        for i in tqdm(range(number)):\n",
    "            G = fun.graph_generation(graph_type = type, number_of_nodes = number_of_nodes, ER_prob = ER_prob, CL_average = CL_average)\n",
    "            grains = fun.grain_generator(number_of_nodes, length, dist)\n",
    "            data[str(i)] = fun.spread(model, G, length, grains)\n",
    "        data.to_parquet(f'Definition_simulations/{type}_{model}.parquet')"
   ]
  },
  {
   "cell_type": "code",
   "execution_count": 26,
   "metadata": {},
   "outputs": [
    {
     "name": "stdout",
     "output_type": "stream",
     "text": [
      "1021\n"
     ]
    }
   ],
   "source": [
    "G_ER = fun.graph_generation(graph_type = \"ER\", number_of_nodes = number_of_nodes, ER_prob = ER_prob, silent = False)"
   ]
  },
  {
   "cell_type": "code",
   "execution_count": 29,
   "metadata": {},
   "outputs": [
    {
     "name": "stdout",
     "output_type": "stream",
     "text": [
      "981\n"
     ]
    }
   ],
   "source": [
    "G_CL = fun.graph_generation(graph_type = \"CL\", number_of_nodes = number_of_nodes, CL_average = CL_average, silent = False)"
   ]
  }
 ],
 "metadata": {
  "kernelspec": {
   "display_name": "Python 3",
   "language": "python",
   "name": "python3"
  },
  "language_info": {
   "codemirror_mode": {
    "name": "ipython",
    "version": 3
   },
   "file_extension": ".py",
   "mimetype": "text/x-python",
   "name": "python",
   "nbconvert_exporter": "python",
   "pygments_lexer": "ipython3",
   "version": "3.10.10"
  }
 },
 "nbformat": 4,
 "nbformat_minor": 2
}
